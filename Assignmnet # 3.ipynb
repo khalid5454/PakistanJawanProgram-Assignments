{
 "cells": [
  {
   "cell_type": "markdown",
   "metadata": {},
   "source": [
    "## Name : Muhammad Khalid\n",
    "## Email : Neuse202@gmail.com\n",
    "## cell : 0344-9696226\n",
    "# Assignmnet # 3"
   ]
  },
  {
   "cell_type": "markdown",
   "metadata": {},
   "source": []
  },
  {
   "cell_type": "markdown",
   "metadata": {},
   "source": [
    "### Q1:Write a Python program to print the following string in a specific format (see the output).\n",
    "                #Twinkle, twinkle, little star,\n",
    "                        #How I wonder what you are!\n",
    "                            #Up above the world so high,\n",
    "                            #Like a diamond in the sky.\n",
    "                #Twinkle, twinkle, little star,\n",
    "                        #How I wonder what you are"
   ]
  },
  {
   "cell_type": "code",
   "execution_count": 71,
   "metadata": {},
   "outputs": [
    {
     "name": "stdout",
     "output_type": "stream",
     "text": [
      "twinkle, twinkle, little star, \n",
      "\t  How i wounder what you are!\n",
      "\t\t Up above the world so high,\n",
      "\t\t Like a diamond in the sky.\n",
      " Twinklw, twinkle, littel star,\n",
      "\t How i wonder what you are\n"
     ]
    }
   ],
   "source": [
    " print(\"twinkle, twinkle, little star, \\n\\t  How i wounder what you are!\\n\\t\\t Up above the world so high,\\n\\t\\t Like a diamond in the sky.\\n Twinklw, twinkle, littel star,\\n\\t How i wonder what you are\")"
   ]
  },
  {
   "cell_type": "code",
   "execution_count": 72,
   "metadata": {},
   "outputs": [
    {
     "name": "stdout",
     "output_type": "stream",
     "text": [
      "explain a little bit\n"
     ]
    }
   ],
   "source": [
    "\"\"\"\n",
    "    1. '\\' is a space,\n",
    "    2. '\\t' is a tab,\n",
    "    3. '\\n' is a newline, \n",
    "    4. '\\r' is a carriage return \n",
    "\"\"\"\n",
    "print(\"explain a little bit\")"
   ]
  },
  {
   "cell_type": "markdown",
   "metadata": {},
   "source": [
    "### Q2: Write a Python program to get the Python version you are using"
   ]
  },
  {
   "cell_type": "code",
   "execution_count": 73,
   "metadata": {},
   "outputs": [
    {
     "name": "stdout",
     "output_type": "stream",
     "text": [
      "3.7.3 (default, Mar 27 2019, 17:13:21) [MSC v.1915 64 bit (AMD64)]\n"
     ]
    }
   ],
   "source": [
    "#Method 1\n",
    "import sys\n",
    "print(sys.version)\n"
   ]
  },
  {
   "cell_type": "code",
   "execution_count": 74,
   "metadata": {},
   "outputs": [
    {
     "name": "stdout",
     "output_type": "stream",
     "text": [
      "Python 3.7.3\n"
     ]
    }
   ],
   "source": [
    "#method2\n",
    "!python --version\n"
   ]
  },
  {
   "cell_type": "markdown",
   "metadata": {},
   "source": [
    "### Q3: Write a Python program to display the current date and time."
   ]
  },
  {
   "cell_type": "code",
   "execution_count": 75,
   "metadata": {},
   "outputs": [
    {
     "name": "stdout",
     "output_type": "stream",
     "text": [
      "The Date and Time is :\t\n",
      "2021-10-23 ,00:56:56\n"
     ]
    }
   ],
   "source": [
    "import datetime\n",
    "t1=datetime.datetime.now()\n",
    "print(\"The Date and Time is :\\t\");\n",
    "\n",
    "#lets format the time and date\n",
    "\n",
    "print(t1.strftime(\"%Y-%m-%d ,%H:%M:%S\"))\n",
    "\n"
   ]
  },
  {
   "cell_type": "markdown",
   "metadata": {},
   "source": [
    "### Q4: Write a Python program which accepts the radius of a circle from the user and compute the area."
   ]
  },
  {
   "cell_type": "code",
   "execution_count": 76,
   "metadata": {},
   "outputs": [
    {
     "name": "stdout",
     "output_type": "stream",
     "text": [
      "Please Enter Radius 5\n",
      "Area of a Circle for radius 5.0- is: 78.53981633974483\n"
     ]
    }
   ],
   "source": [
    "from math import pi\n",
    "r= float(input(\"Please Enter Radius \"));\n",
    "z= pi * r**2;\n",
    "print(\"Area of a Circle for radius \" +str(r) + \"- is: \"+ str(z))\n"
   ]
  },
  {
   "cell_type": "markdown",
   "metadata": {},
   "source": [
    "### Q5: Write a Python program which accepts the user's first and last name and print them in reverse order with a space between them."
   ]
  },
  {
   "cell_type": "code",
   "execution_count": 77,
   "metadata": {},
   "outputs": [
    {
     "name": "stdout",
     "output_type": "stream",
     "text": [
      "plx enter your first namemuhammad \n",
      "plx enter your last namekhalid\n",
      "khalid muhammad \n"
     ]
    }
   ],
   "source": [
    "f_name= input(\"plx enter your first name\");\n",
    "l_name= input (\"plx enter your last name\");\n",
    "\n",
    "print( l_name  +\" \"+ f_name )"
   ]
  },
  {
   "cell_type": "markdown",
   "metadata": {},
   "source": [
    "### Q6: Write a python program which takes two inputs from user and print them addition"
   ]
  },
  {
   "cell_type": "code",
   "execution_count": 78,
   "metadata": {},
   "outputs": [
    {
     "name": "stdout",
     "output_type": "stream",
     "text": [
      "Enter first no:4\n",
      "Enter second no:7\n",
      "The result is : 11\n"
     ]
    }
   ],
   "source": [
    "a=  int(input(\"Enter first no:\"));\n",
    "b=  int(input(\"Enter second no:\"));\n",
    "\n",
    "print(\"The result is :\", + (a+b) )"
   ]
  },
  {
   "cell_type": "markdown",
   "metadata": {},
   "source": [
    "### Q7: Write a program which takes 5 inputs from user for different subject’s marks, total it and generate mark sheet using grades ?"
   ]
  },
  {
   "cell_type": "code",
   "execution_count": 79,
   "metadata": {},
   "outputs": [
    {
     "name": "stdout",
     "output_type": "stream",
     "text": [
      "Enter Math Marks:50\n",
      "Enter Urdu Marks:67\n",
      "Enter English Marks:89\n",
      "Enter Islamyat Marks:90\n",
      "Enter Computer Marks:66\n",
      "Grade C\n"
     ]
    }
   ],
   "source": [
    "a=  int(input(\"Enter Math Marks:\"));\n",
    "b=  int(input(\"Enter Urdu Marks:\"));\n",
    "c=  int(input(\"Enter English Marks:\"));\n",
    "d=  int(input(\"Enter Islamyat Marks:\"));\n",
    "e=  int(input(\"Enter Computer Marks:\"));\n",
    "\n",
    "sum= (a + b +c +d +e);\n",
    "per = sum /500 * 100;\n",
    "\n",
    "if per >= 90 and per <= 100:\n",
    "    print(\"Grade A\");\n",
    "elif per >= 80 and per <90:\n",
    "    print(\"Grade B\");\n",
    "elif per >= 70 and per <80:\n",
    "    print(\"Grade C\");\n",
    "elif per >= 60 and per <70:\n",
    "    print(\"Grade D\");\n",
    "else:\n",
    "    print(\"Grade E\")\n",
    "\n",
    "\n",
    "\n"
   ]
  },
  {
   "cell_type": "markdown",
   "metadata": {},
   "source": [
    "### Q8: Write a program which take input from user and identify that the given number is even or odd?"
   ]
  },
  {
   "cell_type": "code",
   "execution_count": 80,
   "metadata": {},
   "outputs": [
    {
     "name": "stdout",
     "output_type": "stream",
     "text": [
      "Enter a random no: 6\n",
      "The no is Even\n"
     ]
    }
   ],
   "source": [
    "a= int(input(\"Enter a random no: \"));\n",
    "num= a % 2\n",
    "if num ==0:\n",
    "    print(\"The no is Even\");\n",
    "else:\n",
    "    print(\"The no is Odd\")"
   ]
  },
  {
   "cell_type": "markdown",
   "metadata": {},
   "source": [
    "### Q9: Write a program which print the length of the list?"
   ]
  },
  {
   "cell_type": "code",
   "execution_count": 81,
   "metadata": {},
   "outputs": [
    {
     "name": "stdout",
     "output_type": "stream",
     "text": [
      "11\n"
     ]
    }
   ],
   "source": [
    "lst =[1,2,3,4,5,6,7,7,7,8,9]\n",
    "#using len() function\n",
    "print(len(lst))"
   ]
  },
  {
   "cell_type": "markdown",
   "metadata": {},
   "source": [
    "### Q10:Write a Python program to sum all the numeric items in a list?"
   ]
  },
  {
   "cell_type": "code",
   "execution_count": 82,
   "metadata": {},
   "outputs": [
    {
     "name": "stdout",
     "output_type": "stream",
     "text": [
      "15\n"
     ]
    }
   ],
   "source": [
    "\n",
    "\n",
    "list = [1,2,3,4,5]\n",
    "sum = 0\n",
    "\n",
    "for i in range(len(list)):\n",
    "    #\n",
    "\tsum = sum + list[i]\n",
    "    #sum + = lis[i]\n",
    "\n",
    "print(sum)"
   ]
  },
  {
   "cell_type": "markdown",
   "metadata": {},
   "source": [
    "### Q11.Write a Python program to get the largest number from a numeric list."
   ]
  },
  {
   "cell_type": "code",
   "execution_count": 83,
   "metadata": {},
   "outputs": [
    {
     "name": "stdout",
     "output_type": "stream",
     "text": [
      "7\n",
      "90\n"
     ]
    }
   ],
   "source": [
    "list = [1,2,3,4,5,6,7]\n",
    "#display last element of list which is largest no \n",
    "print(list[-1])\n",
    "\n",
    "\n",
    "\n",
    "list2 =[20,40,50,60,90]\n",
    "#sor list in acending order if not in order \n",
    "list2.sort();\n",
    "#print last element of the list\n",
    "print(list2[-1])\n"
   ]
  },
  {
   "cell_type": "markdown",
   "metadata": {},
   "source": [
    "### Q12:Take a list, say for example this one:\n",
    "  #### a = [1, 1, 2, 3, 5, 8, 13, 21, 34, 55, 89]\n",
    "   #### Write a program that prints out all the elements of the list that are less than 5."
   ]
  },
  {
   "cell_type": "code",
   "execution_count": 84,
   "metadata": {},
   "outputs": [
    {
     "name": "stdout",
     "output_type": "stream",
     "text": [
      "1\n",
      "1\n",
      "2\n",
      "3\n"
     ]
    }
   ],
   "source": [
    "a = [1, 1, 2, 3, 5, 8, 13, 21, 34, 55, 89]\n",
    "\n",
    "#checking no in list a,if no is less than 5 print it\n",
    "for i in a:\n",
    "    if i <5:\n",
    "        print(i)"
   ]
  },
  {
   "cell_type": "code",
   "execution_count": null,
   "metadata": {},
   "outputs": [],
   "source": []
  }
 ],
 "metadata": {
  "kernelspec": {
   "display_name": "Python 3",
   "language": "python",
   "name": "python3"
  },
  "language_info": {
   "codemirror_mode": {
    "name": "ipython",
    "version": 3
   },
   "file_extension": ".py",
   "mimetype": "text/x-python",
   "name": "python",
   "nbconvert_exporter": "python",
   "pygments_lexer": "ipython3",
   "version": "3.7.3"
  }
 },
 "nbformat": 4,
 "nbformat_minor": 2
}
